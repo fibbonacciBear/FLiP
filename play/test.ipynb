{
 "cells": [
  {
   "cell_type": "code",
   "execution_count": 1,
   "metadata": {},
   "outputs": [],
   "source": [
    "import sys\n",
    "from fol_session import *\n",
    "\n",
    "FLIP_HOME= \"/Users/eganesan/opt/anaconda3/envs/drlzh/lib/python3.11/site-packages/flip\"\n",
    "sys.path.extend([FLIP_HOME, f\"{FLIP_HOME}/logic\", f\"{FLIP_HOME}/poset\"])"
   ]
  },
  {
   "cell_type": "code",
   "execution_count": 2,
   "metadata": {},
   "outputs": [
    {
     "name": "stdout",
     "output_type": "stream",
     "text": [
      "example1                                                      (0)  Comment\n",
      "Ax.(NaturalNumber(x) -> ~NegativeNumber(x))                   (1)  Given\n",
      "NaturalNumber(c_127)                                          (2)  Given\n",
      "~NegativeNumber(c_127)                                        (3)  Goal\n",
      "NaturalNumber(c_127) -> ~NegativeNumber(c_127)                (4)  A-Elimination (1), with c_127\n",
      "~NegativeNumber(c_127)                                        (5)  Implication-Elimination (Modus Ponens) (4) (2)\n",
      "Apply()                                                       (6)  Reflexivity (3) (5)\n"
     ]
    },
    {
     "data": {
      "text/plain": [
       "'Fail: requires 0 premises, found 2'"
      ]
     },
     "execution_count": 2,
     "metadata": {},
     "output_type": "execute_result"
    }
   ],
   "source": [
    "# Given:\n",
    "# Mersenne primes are not composite.\n",
    "# Each Mersenne prime is a prime number.\n",
    "# Prime numbers are prime.\n",
    "# Prime numbers are natural numbers.\n",
    "# Every natural number is not negative.\n",
    "# Natural numbers are integers.\n",
    "# Each negative number is negative.\n",
    "# Integers are real numbers.\n",
    "# Every real number is real.\n",
    "# Each real number is a number.\n",
    "# 127 is a natural number\n",
    "\n",
    "# \"query\": \"True or false: 127 is not negative.\",\n",
    "\n",
    "# 127 is a natural number\n",
    "# Every natural number is not negative.\n",
    "# 127 is not negative.\n",
    "\n",
    "\n",
    "# Constants:\n",
    "# c_127 = Letter('c_127')\n",
    "\n",
    "clear()\n",
    "\n",
    "# Bound Variable\n",
    "c_127 = Variable(\"c_127\")\n",
    "\n",
    "# Predicates:\n",
    "class NaturalNumber(Relation):\n",
    "    def __init__(self, *args):  # seq of args\n",
    "        Relation.__init__(self, *args)\n",
    "    \n",
    "class NegativeNumber(Relation):\n",
    "    def __init__(self, *args):  # seq of args\n",
    "        Relation.__init__(self, *args)\n",
    "\n",
    "# Axioms:\n",
    "axioms = [\n",
    "    (Text(\"example1\"), comment),\n",
    "    (A(x, Impl(NaturalNumber(x), Not(NegativeNumber(x)))), given),\n",
    "    (NaturalNumber(c_127), given),\n",
    "    (Not(NegativeNumber(c_127)), goal),\n",
    "]\n",
    "\n",
    "# Derive:\n",
    "# ~NegativeNumber(c_127) or NegativeNumber(c_127)\n",
    "\n",
    "check_proof(axioms)\n",
    "\n",
    "rapply(Ae, 1, c_127)\n",
    "rapply(imple, 4, 2)\n",
    "# rapply(contra, 3, 5) # This will help to show that the goal is not provable\n",
    "rapply(refl, 3, 5)\n",
    "\n"
   ]
  },
  {
   "cell_type": "code",
   "execution_count": null,
   "metadata": {},
   "outputs": [],
   "source": []
  }
 ],
 "metadata": {
  "kernelspec": {
   "display_name": "drlzh",
   "language": "python",
   "name": "python3"
  },
  "language_info": {
   "codemirror_mode": {
    "name": "ipython",
    "version": 3
   },
   "file_extension": ".py",
   "mimetype": "text/x-python",
   "name": "python",
   "nbconvert_exporter": "python",
   "pygments_lexer": "ipython3",
   "version": "3.11.9"
  }
 },
 "nbformat": 4,
 "nbformat_minor": 2
}
